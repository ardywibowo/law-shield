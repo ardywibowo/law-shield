{
 "cells": [
  {
   "cell_type": "code",
   "execution_count": 2,
   "metadata": {},
   "outputs": [],
   "source": [
    "import csv\n",
    "\n",
    "data = []\n",
    "for t in ['train', 'dev', 'test']:\n",
    "  with open('MAUD_{}.csv'.format(t)) as f:\n",
    "    for row in csv.DictReader(f):\n",
    "      row['split'] = t\n",
    "      data.append(row)"
   ]
  },
  {
   "cell_type": "code",
   "execution_count": 9,
   "metadata": {},
   "outputs": [],
   "source": [
    "questions = list(set([r['question'] for r in data]))\n",
    "questions.sort()\n",
    "\n",
    "rows = []\n",
    "\n",
    "with open('MAUD_summary_full_len.csv', 'w') as f:\n",
    "  writer = csv.writer(f)\n",
    "  writer.writerow(['question', 'count', 'avg_num_words', 'max_num_words'])\n",
    "  for question in questions:\n",
    "    match = [x for x in data if x['question'] == question and x['data_type'] != 'abridged']\n",
    "    avg_num_words = (sum([len(x['text'].split()) for x in match]) / len(match)) if len(match) > 0 else '-'\n",
    "    max_num_words = max([len(x['text'].split()) for x in match]) if len(match) > 0 else '-'\n",
    "    rows.append([question, len(match), avg_num_words, max_num_words])\n",
    "  rows.sort(key=lambda x: -x[1])\n",
    "  writer.writerows(rows)"
   ]
  },
  {
   "cell_type": "code",
   "execution_count": null,
   "metadata": {},
   "outputs": [],
   "source": [
    "<div dir=\"auto\" style=\"line-height: 10px\"><font color=\"#747474\" style=\"font-size: 14px;\">--</font></div><font color=\"#747474\" style=\" font-size: 14px;\">Zehua Li</font><div dir=\"auto\"><div dir=\"auto\"><font color=\"#747474\" style=\"font-size: 14px;\">Faculty Research Fellow</font></div><div dir=\"auto\"><span style=\"background-color: var(--backgroundColor);\"><font color=\"#747474\" style=\" font-size: 14px;\">Stanford Law School</font></span></div><div dir=\"auto\"><div dir=\"auto\"><span style=\"background-color: var(--backgroundColor);\"><font color=\"#747474\" style=\" caret-color: inherit !important; font-size: 14px;\">(216) 333 5702&nbsp;</font></span></div><div dir=\"auto\"><span style=\"background-color: var(--backgroundColor);\"><font color=\"#747474\" style=\" caret-color: inherit !important; font-size: 14px;\">zehuali@law.stanford.edu</font></span></div><div dir=\"auto\"><span style=\"background-color: var(--backgroundColor);\"><font color=\"#747474\" style=\" caret-color: inherit !important; font-size: 14px;\"><a href=\"https://zehua.li\">Personal Website</a></font></span></div></div></div>"
   ]
  }
 ],
 "metadata": {
  "kernelspec": {
   "display_name": "Python 3",
   "language": "python",
   "name": "python3"
  },
  "language_info": {
   "codemirror_mode": {
    "name": "ipython",
    "version": 3
   },
   "file_extension": ".py",
   "mimetype": "text/x-python",
   "name": "python",
   "nbconvert_exporter": "python",
   "pygments_lexer": "ipython3",
   "version": "3.7.7"
  },
  "orig_nbformat": 4,
  "vscode": {
   "interpreter": {
    "hash": "a657b80ce8fa48eccbf97a7d4413913d734864d8a355b884d498670210a71051"
   }
  }
 },
 "nbformat": 4,
 "nbformat_minor": 2
}
